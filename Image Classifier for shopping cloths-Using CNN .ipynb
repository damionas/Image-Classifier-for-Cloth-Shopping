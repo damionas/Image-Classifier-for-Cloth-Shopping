{
 "cells": [
  {
   "cell_type": "code",
   "execution_count": 1,
   "id": "71216f5e",
   "metadata": {},
   "outputs": [],
   "source": [
    "import numpy as np\n",
    "import pandas as pd\n",
    "%matplotlib inline\n",
    "import matplotlib as mpl\n",
    "import matplotlib.pyplot as plt"
   ]
  },
  {
   "cell_type": "code",
   "execution_count": 2,
   "id": "1764b6eb",
   "metadata": {},
   "outputs": [],
   "source": [
    "import tensorflow as tf"
   ]
  },
  {
   "cell_type": "code",
   "execution_count": 3,
   "id": "42bce5db",
   "metadata": {},
   "outputs": [],
   "source": [
    "from tensorflow import keras "
   ]
  },
  {
   "cell_type": "code",
   "execution_count": 4,
   "id": "ed83d61c",
   "metadata": {},
   "outputs": [
    {
     "data": {
      "text/plain": [
       "'2.10.0'"
      ]
     },
     "execution_count": 4,
     "metadata": {},
     "output_type": "execute_result"
    }
   ],
   "source": [
    "keras.__version__"
   ]
  },
  {
   "cell_type": "code",
   "execution_count": 5,
   "id": "14d80c68",
   "metadata": {},
   "outputs": [
    {
     "data": {
      "text/plain": [
       "'2.10.0'"
      ]
     },
     "execution_count": 5,
     "metadata": {},
     "output_type": "execute_result"
    }
   ],
   "source": [
    "tf.__version__"
   ]
  },
  {
   "cell_type": "code",
   "execution_count": 6,
   "id": "4c4d9c00",
   "metadata": {},
   "outputs": [],
   "source": [
    "fashion_mnist = keras.datasets.fashion_mnist\n",
    "(X_train_full, y_train_full),(X_test, y_test) = fashion_mnist.load_data()"
   ]
  },
  {
   "cell_type": "code",
   "execution_count": 7,
   "id": "1bd4955b",
   "metadata": {},
   "outputs": [
    {
     "data": {
      "text/plain": [
       "<matplotlib.image.AxesImage at 0x1f6109374f0>"
      ]
     },
     "execution_count": 7,
     "metadata": {},
     "output_type": "execute_result"
    },
    {
     "data": {
      "image/png": "[encoded data removed]",
      "text/plain": [
       "<Figure size 432x288 with 1 Axes>"
      ]
     },
     "metadata": {
      "needs_background": "light"
     },
     "output_type": "display_data"
    }
   ],
   "source": [
    "#to view the data use plt.imshow\n",
    "plt.imshow(X_train_full[0])"
   ]
  },
  {
   "cell_type": "code",
   "execution_count": 8,
   "id": "551233fe",
   "metadata": {},
   "outputs": [
    {
     "data": {
      "text/plain": [
       "0"
      ]
     },
     "execution_count": 8,
     "metadata": {},
     "output_type": "execute_result"
    }
   ],
   "source": [
    "y_train_full[1]"
   ]
  },
  {
   "cell_type": "code",
   "execution_count": 9,
   "id": "2eea339b",
   "metadata": {},
   "outputs": [],
   "source": [
    "class_names = [\"T-shirt\",\"Trouser\",\"Pullover\",\"Dress\",\"Coat\",\"Sandal\",\"Shirt\",\"Sneaker\",\"Bag\",\"Ankle boot\"]"
   ]
  },
  {
   "cell_type": "markdown",
   "id": "6caa4072",
   "metadata": {},
   "source": [
    "# Data Reshape"
   ]
  },
  {
   "cell_type": "code",
   "execution_count": 11,
   "id": "a739a8b1",
   "metadata": {},
   "outputs": [],
   "source": [
    "#CNN needs three dimensional array, width,height and channels\n",
    "X_train_full = X_train_full.reshape((60000,28,28,1))\n",
    "X_test = X_test.reshape((10000,28,28,1))"
   ]
  },
  {
   "cell_type": "markdown",
   "id": "7b6e4a83",
   "metadata": {},
   "source": [
    "\n",
    "# NORMALIZING OUR DATA"
   ]
  },
  {
   "cell_type": "code",
   "execution_count": 13,
   "id": "adf086dd",
   "metadata": {},
   "outputs": [],
   "source": [
    "X_train_n = X_train_full/255.0\n",
    "X_test_n = X_test / 255.0"
   ]
  },
  {
   "cell_type": "markdown",
   "id": "dc811e00",
   "metadata": {},
   "source": [
    "# SPLIT THE DATA INTO TRAIN/VALIDATION/TEST DATASETS"
   ]
  },
  {
   "cell_type": "code",
   "execution_count": 14,
   "id": "57d927c0",
   "metadata": {},
   "outputs": [],
   "source": [
    "X_valid, X_train = X_train_n[:5000],X_train_n[5000:]\n",
    "y_valid, y_train = y_train_full[:5000], y_train_full[5000:]\n",
    "X_test = X_test_n"
   ]
  },
  {
   "cell_type": "markdown",
   "id": "9ff165ff",
   "metadata": {},
   "source": [
    "# Create a Model Architecture"
   ]
  },
  {
   "cell_type": "code",
   "execution_count": 15,
   "id": "85fb90ba",
   "metadata": {},
   "outputs": [],
   "source": [
    "np.random.seed(42)\n",
    "tf.random.set_seed(42)"
   ]
  },
  {
   "cell_type": "markdown",
   "id": "19478bec",
   "metadata": {},
   "source": [
    "# Architecture"
   ]
  },
  {
   "cell_type": "code",
   "execution_count": 17,
   "id": "0070ad65",
   "metadata": {},
   "outputs": [],
   "source": [
    "model = keras.models.Sequential()\n",
    "model.add(keras.layers.Conv2D(filters=32, kernel_size=(3,3),strides=1, padding= 'valid', activation='relu', input_shape = (28,28,1)))\n",
    "model.add(keras.layers.MaxPooling2D((2,2)))\n",
    "\n",
    "model.add(keras.layers.Flatten())\n",
    "model.add(keras.layers.Dense(300, activation=\"relu\"))\n",
    "model.add(keras.layers.Dense(100, activation=\"relu\"))\n",
    "model.add(keras.layers.Dense(10, activation=\"softmax\"))"
   ]
  },
  {
   "cell_type": "code",
   "execution_count": 18,
   "id": "519515b9",
   "metadata": {},
   "outputs": [
    {
     "name": "stdout",
     "output_type": "stream",
     "text": [
      "Model: \"sequential_1\"\n",
      "_________________________________________________________________\n",
      " Layer (type)                Output Shape              Param #   \n",
      "=================================================================\n",
      " conv2d (Conv2D)             (None, 26, 26, 32)        320       \n",
      "                                                                 \n",
      " max_pooling2d (MaxPooling2D  (None, 13, 13, 32)       0         \n",
      " )                                                               \n",
      "                                                                 \n",
      " flatten (Flatten)           (None, 5408)              0         \n",
      "                                                                 \n",
      " dense (Dense)               (None, 300)               1622700   \n",
      "                                                                 \n",
      " dense_1 (Dense)             (None, 100)               30100     \n",
      "                                                                 \n",
      " dense_2 (Dense)             (None, 10)                1010      \n",
      "                                                                 \n",
      "=================================================================\n",
      "Total params: 1,654,130\n",
      "Trainable params: 1,654,130\n",
      "Non-trainable params: 0\n",
      "_________________________________________________________________\n"
     ]
    }
   ],
   "source": [
    "model.summary()"
   ]
  },
  {
   "cell_type": "code",
   "execution_count": 19,
   "id": "e8645b06",
   "metadata": {},
   "outputs": [],
   "source": [
    "model.compile(loss = \"sparse_categorical_crossentropy\",optimizer = \"sgd\", metrics =[\"accuracy\"])"
   ]
  },
  {
   "cell_type": "code",
   "execution_count": 20,
   "id": "c69e40d2",
   "metadata": {},
   "outputs": [
    {
     "name": "stdout",
     "output_type": "stream",
     "text": [
      "Epoch 1/10\n",
      "860/860 [==============================] - 13s 15ms/step - loss: 0.8383 - accuracy: 0.7159 - val_loss: 0.7520 - val_accuracy: 0.7348\n",
      "Epoch 2/10\n",
      "860/860 [==============================] - 13s 15ms/step - loss: 0.5280 - accuracy: 0.8087 - val_loss: 0.4890 - val_accuracy: 0.8176\n",
      "Epoch 3/10\n",
      "860/860 [==============================] - 14s 16ms/step - loss: 0.4712 - accuracy: 0.8296 - val_loss: 1.0440 - val_accuracy: 0.6822\n",
      "Epoch 4/10\n",
      "860/860 [==============================] - 13s 15ms/step - loss: 0.4352 - accuracy: 0.8445 - val_loss: 0.4026 - val_accuracy: 0.8620\n",
      "Epoch 5/10\n",
      "860/860 [==============================] - 13s 15ms/step - loss: 0.4118 - accuracy: 0.8529 - val_loss: 0.4156 - val_accuracy: 0.8508\n",
      "Epoch 6/10\n",
      "860/860 [==============================] - 12s 15ms/step - loss: 0.3883 - accuracy: 0.8600 - val_loss: 0.3693 - val_accuracy: 0.8702\n",
      "Epoch 7/10\n",
      "860/860 [==============================] - 12s 14ms/step - loss: 0.3717 - accuracy: 0.8661 - val_loss: 0.4000 - val_accuracy: 0.8566\n",
      "Epoch 8/10\n",
      "860/860 [==============================] - 12s 14ms/step - loss: 0.3574 - accuracy: 0.8707 - val_loss: 0.4904 - val_accuracy: 0.8166\n",
      "Epoch 9/10\n",
      "860/860 [==============================] - 12s 15ms/step - loss: 0.3444 - accuracy: 0.8743 - val_loss: 0.3702 - val_accuracy: 0.8682\n",
      "Epoch 10/10\n",
      "860/860 [==============================] - 12s 14ms/step - loss: 0.3330 - accuracy: 0.8801 - val_loss: 0.3567 - val_accuracy: 0.8666\n"
     ]
    }
   ],
   "source": [
    "model_history = model.fit(X_train,y_train,epochs=10,batch_size=64, validation_data=(X_valid,y_valid))"
   ]
  },
  {
   "cell_type": "code",
   "execution_count": 21,
   "id": "b15312c1",
   "metadata": {},
   "outputs": [
    {
     "data": {
      "image/png": "[encoded data removed]",
      "text/plain": [
       "<Figure size 576x360 with 1 Axes>"
      ]
     },
     "metadata": {
      "needs_background": "light"
     },
     "output_type": "display_data"
    }
   ],
   "source": [
    "pd.DataFrame(model_history.history).plot(figsize = (8,5))\n",
    "plt.grid(True)\n",
    "plt.gca().set_ylim(0,1)\n",
    "\n",
    "plt.show()"
   ]
  },
  {
   "cell_type": "code",
   "execution_count": 22,
   "id": "c66b4a36",
   "metadata": {},
   "outputs": [
    {
     "name": "stdout",
     "output_type": "stream",
     "text": [
      "Epoch 1/20\n",
      "860/860 [==============================] - 11s 13ms/step - loss: 0.3217 - accuracy: 0.8829 - val_loss: 0.3548 - val_accuracy: 0.8674\n",
      "Epoch 2/20\n",
      "860/860 [==============================] - 11s 13ms/step - loss: 0.3113 - accuracy: 0.8867 - val_loss: 0.3367 - val_accuracy: 0.8776\n",
      "Epoch 3/20\n",
      "860/860 [==============================] - 11s 13ms/step - loss: 0.3035 - accuracy: 0.8893 - val_loss: 0.5782 - val_accuracy: 0.7996\n",
      "Epoch 4/20\n",
      "860/860 [==============================] - 11s 13ms/step - loss: 0.2948 - accuracy: 0.8931 - val_loss: 0.3110 - val_accuracy: 0.8878\n",
      "Epoch 5/20\n",
      "860/860 [==============================] - 11s 13ms/step - loss: 0.2896 - accuracy: 0.8946 - val_loss: 0.3057 - val_accuracy: 0.8890\n",
      "Epoch 6/20\n",
      "860/860 [==============================] - 11s 13ms/step - loss: 0.2802 - accuracy: 0.8976 - val_loss: 0.2972 - val_accuracy: 0.8938\n",
      "Epoch 7/20\n",
      "860/860 [==============================] - 11s 12ms/step - loss: 0.2735 - accuracy: 0.9006 - val_loss: 0.3143 - val_accuracy: 0.8872\n",
      "Epoch 8/20\n",
      "860/860 [==============================] - 11s 13ms/step - loss: 0.2678 - accuracy: 0.9022 - val_loss: 0.3621 - val_accuracy: 0.8688\n",
      "Epoch 9/20\n",
      "860/860 [==============================] - 11s 13ms/step - loss: 0.2619 - accuracy: 0.9047 - val_loss: 0.2986 - val_accuracy: 0.8888\n",
      "Epoch 10/20\n",
      "860/860 [==============================] - 11s 13ms/step - loss: 0.2562 - accuracy: 0.9070 - val_loss: 0.3081 - val_accuracy: 0.8842\n",
      "Epoch 11/20\n",
      "860/860 [==============================] - 11s 13ms/step - loss: 0.2502 - accuracy: 0.9074 - val_loss: 0.2895 - val_accuracy: 0.8968\n",
      "Epoch 12/20\n",
      "860/860 [==============================] - 11s 13ms/step - loss: 0.2446 - accuracy: 0.9108 - val_loss: 0.2737 - val_accuracy: 0.9012\n",
      "Epoch 13/20\n",
      "860/860 [==============================] - 11s 13ms/step - loss: 0.2402 - accuracy: 0.9125 - val_loss: 0.2888 - val_accuracy: 0.8964\n",
      "Epoch 14/20\n",
      "860/860 [==============================] - 11s 12ms/step - loss: 0.2354 - accuracy: 0.9143 - val_loss: 0.3287 - val_accuracy: 0.8770\n",
      "Epoch 15/20\n",
      "860/860 [==============================] - 11s 13ms/step - loss: 0.2300 - accuracy: 0.9154 - val_loss: 0.3218 - val_accuracy: 0.8862\n",
      "Epoch 16/20\n",
      "860/860 [==============================] - 11s 13ms/step - loss: 0.2261 - accuracy: 0.9174 - val_loss: 0.2655 - val_accuracy: 0.9014\n",
      "Epoch 17/20\n",
      "860/860 [==============================] - 11s 13ms/step - loss: 0.2210 - accuracy: 0.9181 - val_loss: 0.3556 - val_accuracy: 0.8758\n",
      "Epoch 18/20\n",
      "860/860 [==============================] - 13s 15ms/step - loss: 0.2172 - accuracy: 0.9207 - val_loss: 0.3310 - val_accuracy: 0.8854\n",
      "Epoch 19/20\n",
      "860/860 [==============================] - 12s 14ms/step - loss: 0.2129 - accuracy: 0.9231 - val_loss: 0.2846 - val_accuracy: 0.9002\n",
      "Epoch 20/20\n",
      "860/860 [==============================] - 11s 12ms/step - loss: 0.2088 - accuracy: 0.9244 - val_loss: 0.2838 - val_accuracy: 0.9006\n"
     ]
    }
   ],
   "source": [
    "#to check convergence and increase the accuracy, incraese the Epochs\n",
    "model_history = model.fit(X_train,y_train,epochs=20,batch_size=64, validation_data=(X_valid,y_valid))"
   ]
  },
  {
   "cell_type": "code",
   "execution_count": 23,
   "id": "221b95df",
   "metadata": {},
   "outputs": [
    {
     "data": {
      "image/png": "[encoded data removed]",
      "text/plain": [
       "<Figure size 576x360 with 1 Axes>"
      ]
     },
     "metadata": {
      "needs_background": "light"
     },
     "output_type": "display_data"
    }
   ],
   "source": [
    "pd.DataFrame(model_history.history).plot(figsize = (8,5))\n",
    "plt.grid(True)\n",
    "plt.gca().set_ylim(0,1)\n",
    "\n",
    "plt.show()"
   ]
  },
  {
   "cell_type": "code",
   "execution_count": 24,
   "id": "def5626c",
   "metadata": {},
   "outputs": [
    {
     "name": "stdout",
     "output_type": "stream",
     "text": [
      "313/313 [==============================] - 1s 3ms/step - loss: 0.2918 - accuracy: 0.8954\n"
     ]
    }
   ],
   "source": [
    "ev = model.evaluate(X_test_n,y_test)"
   ]
  },
  {
   "cell_type": "code",
   "execution_count": 25,
   "id": "24ec2367",
   "metadata": {},
   "outputs": [
    {
     "data": {
      "text/plain": [
       "[0.29181990027427673, 0.8953999876976013]"
      ]
     },
     "execution_count": 25,
     "metadata": {},
     "output_type": "execute_result"
    }
   ],
   "source": [
    "ev"
   ]
  },
  {
   "cell_type": "code",
   "execution_count": 26,
   "id": "2e225d21",
   "metadata": {},
   "outputs": [],
   "source": [
    "X_new = X_test[:3]"
   ]
  },
  {
   "cell_type": "code",
   "execution_count": 30,
   "id": "302ba685",
   "metadata": {},
   "outputs": [
    {
     "name": "stdout",
     "output_type": "stream",
     "text": [
      "1/1 [==============================] - 0s 16ms/step\n"
     ]
    },
    {
     "data": {
      "text/plain": [
       "array([9, 2, 1], dtype=int64)"
      ]
     },
     "execution_count": 30,
     "metadata": {},
     "output_type": "execute_result"
    }
   ],
   "source": [
    "y_pred = np.argmax(model.predict(X_new), axis=-1)\n",
    "y_pred"
   ]
  },
  {
   "cell_type": "code",
   "execution_count": 29,
   "id": "69b78520",
   "metadata": {},
   "outputs": [
    {
     "data": {
      "text/plain": [
       "array([9, 2, 1], dtype=uint8)"
      ]
     },
     "execution_count": 29,
     "metadata": {},
     "output_type": "execute_result"
    }
   ],
   "source": [
    "y_test[:3]"
   ]
  },
  {
   "cell_type": "code",
   "execution_count": 31,
   "id": "5041e88b",
   "metadata": {},
   "outputs": [
    {
     "name": "stdout",
     "output_type": "stream",
     "text": [
      "AxesImage(54,36;334.8x217.44)\n"
     ]
    },
    {
     "data": {
      "image/png": "[encoded data removed]",
      "text/plain": [
       "<Figure size 432x288 with 1 Axes>"
      ]
     },
     "metadata": {
      "needs_background": "light"
     },
     "output_type": "display_data"
    }
   ],
   "source": [
    "print(plt.imshow(X_test[0].reshape(28,28)))"
   ]
  },
  {
   "cell_type": "code",
   "execution_count": null,
   "id": "196e6bea",
   "metadata": {},
   "outputs": [],
   "source": []
  },
  {
   "cell_type": "code",
   "execution_count": null,
   "id": "2b58030b",
   "metadata": {},
   "outputs": [],
   "source": []
  }
 ],
 "metadata": {
  "kernelspec": {
   "display_name": "Python 3 (ipykernel)",
   "language": "python",
   "name": "python3"
  },
  "language_info": {
   "codemirror_mode": {
    "name": "ipython",
    "version": 3
   },
   "file_extension": ".py",
   "mimetype": "text/x-python",
   "name": "python",
   "nbconvert_exporter": "python",
   "pygments_lexer": "ipython3",
   "version": "3.9.7"
  }
 },
 "nbformat": 4,
 "nbformat_minor": 5
}
